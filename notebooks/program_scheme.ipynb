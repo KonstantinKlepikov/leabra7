{
 "cells": [
  {
   "cell_type": "code",
   "execution_count": 1,
   "metadata": {},
   "outputs": [],
   "source": [
    "from leabra7 import program as prg\n",
    "from leabra7 import net\n",
    "from leabra7 import specs\n",
    "%matplotlib inline"
   ]
  },
  {
   "cell_type": "markdown",
   "metadata": {},
   "source": [
    "# leabra7 new interface \n",
    "\n",
    "Noam and I have done lots of good stuff lately (netin scaling, average kwta, fixing bugs, one-to-one projns, learning averages, etc.).\n",
    "This is the main push I've been doing though.\n",
    "\n",
    "## First, a demo"
   ]
  },
  {
   "cell_type": "code",
   "execution_count": null,
   "metadata": {},
   "outputs": [],
   "source": [
    "# Declare the network structure\n",
    "network = net.Net()\n",
    "network.new_layer(\"input\", size=3)\n",
    "network.new_layer(\"output\", size=3, spec=specs.LayerSpec(\n",
    "    log_on_cycle=[\"unit_act\", \"unit_spike\"]))\n",
    "network.new_projn(\"projn1\", pre=\"input\", post=\"output\")\n",
    "\n",
    "# Declare a simple program\n",
    "program = prg.Program([\n",
    "        prg.HardClamp(\"input\", [0.7]),  # Note the richness of the messages\n",
    "        prg.Loop([\n",
    "            prg.Cycle()\n",
    "        ], num_iter=50)\n",
    "])\n",
    "\n",
    "# Run the program\n",
    "network.execute(program)\n",
    "\n",
    "# Slice, dice, and plot the logs\n",
    "layer_logs, unit_logs = network.logs(\"cycle\", \"output\")\n",
    "unit_logs.loc[unit_logs[\"unit\"] == 0][[\"act\", \"spike\", \"time\"]].plot(x=\"time\")"
   ]
  },
  {
   "cell_type": "markdown",
   "metadata": {},
   "source": [
    "## Motivation\n",
    "\n",
    "I was trying to implement **XCAL**. But, how do we define plus and minus phases without spaghetti code? We want to easily modify program behavior, but hard-coding what a \"trial\" is into the network object makes it very difficult for end-users to change the definition of a \"trial\" later.\n",
    "\n",
    "**Humans** like to think about the following things:\n",
    "\n",
    "* Trials\n",
    "* Epochs\n",
    "* Clamping\n",
    "* ....\n",
    "\n",
    "And parameters for the above. They particularly *don't* like to think about setup/teardown (who wants to remember to end plus phases before beginning minus phases?)\n",
    "\n",
    "**Networks** don't care about human stuff. They care about commands like the following:\n",
    "\n",
    "* Begin plus phase\n",
    "* Cycle! Cycle! Cycle!\n",
    "* End plus phase\n",
    "* Begin minus phase\n",
    "* ...\n",
    "\n",
    "**Mixing** the two domains is *bad* because it forces humans and networks to know/care about stuff they dont' care about.\n",
    "\n",
    "Solution? Treat the network like a computer processor. Take high-level programs that the user writes, compile them down into \"network code\", and let the network run the \"network code.\"\n",
    "\n",
    "### Benefits of this approach\n",
    "\n",
    "* Separation of concerns\n",
    "* Users can specify network behavior in a *declarative* way (good for reproducibility) without knowing about the internals of how the network, runs. This, I think, was a difficulty with Emergent.\n",
    "* Well-researched foundations in compiler theory\n",
    "* Enables parallelism in future due to async network event handling\n",
    "* Potential for domain specific language if it becomes absolutely necessary\n",
    "\n",
    "### Implementation tour\n",
    "\n",
    "A **program** is just a **directed, rooted tree.** (see program above.)\n",
    "\n",
    "To \"compile\" the program, we simply do a left-right depth-first-search preorder traversal of the tree.\n",
    "\n",
    "*In case of compiler nerd people: this tree happens to be exactly the same as an abstract syntax tree (AST) :) *"
   ]
  },
  {
   "cell_type": "code",
   "execution_count": null,
   "metadata": {},
   "outputs": [],
   "source": [
    "list(program.preorder())"
   ]
  },
  {
   "cell_type": "markdown",
   "metadata": {},
   "source": [
    "Then, we filter it for \"atomic events\", or \"network code\" (i.e. things the network understands). Note that the Loop node and the Program node disappear in this case:"
   ]
  },
  {
   "cell_type": "code",
   "execution_count": null,
   "metadata": {},
   "outputs": [],
   "source": [
    "list(program.atomic_stream())"
   ]
  },
  {
   "cell_type": "markdown",
   "metadata": {},
   "source": [
    "Then, the network consumes each atomic event and either handles it (in the case of a cycle) or broadcasts it to every object in the network (BEGIN_PLUS_PHASE, HARD_CLAMP, etc.)\n",
    "\n",
    "## Next steps\n",
    "\n",
    "* Now that we have plus and minus phases up and running, we are veeeery close to XCAL!!!"
   ]
  }
 ],
 "metadata": {
  "kernelspec": {
   "display_name": "Python [conda env:leabra7]",
   "language": "python",
   "name": "conda-env-leabra7-py"
  },
  "language_info": {
   "codemirror_mode": {
    "name": "ipython",
    "version": 3
   },
   "file_extension": ".py",
   "mimetype": "text/x-python",
   "name": "python",
   "nbconvert_exporter": "python",
   "pygments_lexer": "ipython3",
   "version": "3.6.5"
  }
 },
 "nbformat": 4,
 "nbformat_minor": 2
}
