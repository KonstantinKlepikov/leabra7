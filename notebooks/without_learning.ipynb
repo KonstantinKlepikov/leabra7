{
  "cells": [
    {
      "cell_type": "code",
      "execution_count": null,
      "metadata": {},
      "outputs": [],
      "source": [
        "from typing import List\n",
        "\n",
        "import matplotlib  #type: ignore\n",
        "import matplotlib.pyplot as plt  #type: ignore\n",
        "%matplotlib inline\n",
        "import pandas as pd  #type: ignore\n",
        "\n",
        "import leabra7 as lb"
      ]
    },
    {
      "cell_type": "markdown",
      "metadata": {},
      "source": [
        "# Two Neuron Network"
      ]
    },
    {
      "cell_type": "markdown",
      "metadata": {},
      "source": [
        "### Network Creation"
      ]
    },
    {
      "cell_type": "code",
      "execution_count": null,
      "metadata": {},
      "outputs": [],
      "source": [
        "# Create the network\n",
        "net = lb.Net()\n",
        "\n",
        "# Set options for our layers\n",
        "layer_spec = lb.LayerSpec(\n",
        "    # For each layer, log the unit potential\n",
        "    log_on_cycle=(\"unit_v_m\", \"unit_act\", \"unit_i_net\", \"unit_net\",\n",
        "                  \"unit_gc_i\", \"unit_adapt\", \"unit_spike\"))\n",
        "\n",
        "# Create our layers and projections\n",
        "net.new_layer(\"input\", 1, layer_spec)\n",
        "net.new_layer(\"output\", 1, layer_spec)\n",
        "net.new_projn(\"proj1\", \"input\", \"output\")"
      ]
    },
    {
      "cell_type": "markdown",
      "metadata": {},
      "source": [
        "### Run Network"
      ]
    },
    {
      "cell_type": "code",
      "execution_count": null,
      "metadata": {},
      "outputs": [],
      "source": [
        "# Clamp inputs\n",
        "net.clamp_layer(name=\"input\", acts=[1])\n",
        "\n",
        "# Run 200 cycles\n",
        "for i in range(200):\n",
        "    net.cycle()"
      ]
    },
    {
      "cell_type": "markdown",
      "metadata": {},
      "source": [
        "### Graphing Logs"
      ]
    },
    {
      "cell_type": "code",
      "execution_count": null,
      "metadata": {},
      "outputs": [],
      "source": [
        "wholeLog, partLog = net.logs(freq=\"cycle\", name=\"output\")\n",
        "partLog.plot(x='time', figsize=(10, 6))"
      ]
    },
    {
      "cell_type": "markdown",
      "metadata": {},
      "source": [
        "# One to Many Neuron Network"
      ]
    },
    {
      "cell_type": "code",
      "execution_count": null,
      "metadata": {},
      "outputs": [],
      "source": [
        "# Define projection spec to have random weights\n",
        "projn_spec = lb.ProjnSpec(dist=lb.Gaussian(mean=0.5, var=0.3))"
      ]
    },
    {
      "cell_type": "markdown",
      "metadata": {},
      "source": [
        "### Network Creation"
      ]
    },
    {
      "cell_type": "code",
      "execution_count": null,
      "metadata": {},
      "outputs": [],
      "source": [
        "# Create the network\n",
        "net = lb.Net()\n",
        "\n",
        "# Create our layers and projections\n",
        "net.new_layer(\"input\", 1, layer_spec)\n",
        "net.new_layer(\"output\", 10, layer_spec)\n",
        "net.new_projn(\"proj1\", \"input\", \"output\", spec=projn_spec)"
      ]
    },
    {
      "cell_type": "markdown",
      "metadata": {},
      "source": [
        "### Run Network"
      ]
    },
    {
      "cell_type": "code",
      "execution_count": null,
      "metadata": {},
      "outputs": [],
      "source": [
        "# Clamp inputs\n",
        "net.clamp_layer(name=\"input\", acts=[1])\n",
        "\n",
        "# Run 200 cycles\n",
        "for i in range(100):\n",
        "    net.cycle()"
      ]
    },
    {
      "cell_type": "markdown",
      "metadata": {},
      "source": [
        "### Graphing"
      ]
    },
    {
      "cell_type": "code",
      "execution_count": null,
      "metadata": {},
      "outputs": [],
      "source": [
        "whole_log, part_log = net.logs(freq=\"cycle\", name=\"output\")\n",
        "\n",
        "fig, ax = plt.subplots(figsize=(10, 6))\n",
        "for name, group in part_log.groupby(\"unit\"):\n",
        "    group.plot(x=\"time\", y=\"act\", ax=ax, label=\"unit \" + str(name))\n",
        "ax.set_ylabel(\"Activation\")\n",
        "ax.set_xlabel(\"Time\")"
      ]
    },
    {
      "cell_type": "markdown",
      "metadata": {},
      "source": [
        "# Multiple Layers"
      ]
    },
    {
      "cell_type": "markdown",
      "metadata": {},
      "source": [
        "### Network Creation"
      ]
    },
    {
      "cell_type": "code",
      "execution_count": null,
      "metadata": {},
      "outputs": [],
      "source": [
        "# Create the network\n",
        "net = lb.Net()\n",
        "\n",
        "# Create our layers and projections\n",
        "net.new_layer(\"input\", 1, layer_spec)\n",
        "net.new_layer(\"middle\", 3, layer_spec)\n",
        "net.new_layer(\"output\", 5, layer_spec)\n",
        "net.new_projn(\"proj1\", \"input\", \"middle\", spec=projn_spec)\n",
        "net.new_projn(\"proj2\", \"middle\", \"output\", spec=projn_spec)\n",
        "net.new_projn(\"proj3\", \"input\", \"output\", spec=projn_spec)"
      ]
    },
    {
      "cell_type": "markdown",
      "metadata": {},
      "source": [
        "### Run Network"
      ]
    },
    {
      "cell_type": "code",
      "execution_count": null,
      "metadata": {},
      "outputs": [],
      "source": [
        "# Clamp inputs\n",
        "net.clamp_layer(name=\"input\", acts=[1])\n",
        "\n",
        "# Run 200 cycles\n",
        "for i in range(100):\n",
        "    net.cycle()"
      ]
    },
    {
      "cell_type": "markdown",
      "metadata": {},
      "source": [
        "### Logging"
      ]
    },
    {
      "cell_type": "code",
      "execution_count": null,
      "metadata": {},
      "outputs": [],
      "source": [
        "whole_log_in, part_log_in = net.logs(freq=\"cycle\", name=\"input\")\n",
        "whole_log_mid, part_log_mid = net.logs(freq=\"cycle\", name=\"middle\")\n",
        "whole_log_out, part_log_out = net.logs(freq=\"cycle\", name=\"output\")"
      ]
    },
    {
      "cell_type": "markdown",
      "metadata": {},
      "source": [
        "### Plotting\n",
        "\n",
        "\n",
        ""
      ]
    },
    {
      "cell_type": "code",
      "execution_count": null,
      "metadata": {},
      "outputs": [],
      "source": [
        "# Function to plot data for a certain attribute for each unit of layer\n",
        "def plot_by_unit(axes: List[matplotlib.axes.Axes], log: pd.DataFrame,\n",
        "                 attr_name: str, title: str, location: int) -> None:\n",
        "    for unit_name, unit_data in log.groupby(\"unit\"):\n",
        "        unit_data.plot(\n",
        "            x=\"time\",\n",
        "            y=attr_name,\n",
        "            ax=axes[location],\n",
        "            title=title,\n",
        "            label=\"unit \" + str(unit_name))\n",
        ""
      ]
    },
    {
      "cell_type": "code",
      "execution_count": null,
      "metadata": {},
      "outputs": [],
      "source": [
        "fig, ax = plt.subplots(nrows=3, ncols=1, figsize=(10, 20))\n",
        "attr = \"act\"\n",
        "plot_by_unit(\n",
        "    axes=ax, log=part_log_in, attr_name=attr, title=\"input\", location=0)\n",
        "plot_by_unit(\n",
        "    axes=ax, log=part_log_mid, attr_name=attr, title=\"middle\", location=1)\n",
        "plot_by_unit(\n",
        "    axes=ax, log=part_log_out, attr_name=attr, title=\"output\", location=2)"
      ]
    }
  ],
  "metadata": {
    "kernelspec": {
      "display_name": "Python Leabra7",
      "language": "python",
      "name": "leabra7"
    },
    "language_info": {
      "codemirror_mode": {
        "name": "ipython",
        "version": 3
      },
      "file_extension": ".py",
      "mimetype": "text/x-python",
      "name": "python",
      "nbconvert_exporter": "python",
      "pygments_lexer": "ipython3",
      "version": "3.6.6"
    }
  },
  "nbformat": 4,
  "nbformat_minor": 2
}